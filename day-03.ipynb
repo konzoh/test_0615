{
 "cells": [
  {
   "cell_type": "code",
   "execution_count": 1,
   "id": "5481c2f3",
   "metadata": {},
   "outputs": [
    {
     "data": {
      "text/plain": [
       "0"
      ]
     },
     "execution_count": 1,
     "metadata": {},
     "output_type": "execute_result"
    }
   ],
   "source": [
    "1-1"
   ]
  },
  {
   "cell_type": "markdown",
   "id": "bafaca06",
   "metadata": {},
   "source": [
    "# 오류 및 예외처리\n",
    "프로그램 실행이 안되는 현상\n",
    " - 잘못된 연산, 시스템에서 반환하는 오류\n",
    " - 프로그램 실행이 안됨\n",
    "\n",
    " # 버그\n",
    " 프로그램 실행은 정상으로 되나, 우리가 예상하지 못한 결과가 나올 때\n",
    "\n",
    " # 디버그\n",
    " 버그를 해결 - 문제점을 찾아서 수정\n",
    "\n",
    " # 디버깅\n",
    " 디버그를 하는 과정\n",
    "  - 예상하는 코드 부근에서 실행을 멈추고 실시간으로 조사하는 방법\n",
    "  - break point를 지정하면 해당 라인에서 실행이 멈추고 이 때까지의 변수의 값이나 명령어의 상태를 확인가능\n",
    "\n",
    "tri, except"
   ]
  },
  {
   "cell_type": "code",
   "execution_count": 42,
   "id": "b801d436",
   "metadata": {},
   "outputs": [
    {
     "name": "stdout",
     "output_type": "stream",
     "text": [
      "10 / 0 = Error\n",
      "10 / 2 = 5.0\n",
      "10 / 5 = 2.0\n",
      "10 / 5 = 2.0\n",
      "10 / 1 = 10.0\n"
     ]
    }
   ],
   "source": [
    "import random\n",
    "for i in range(5):\n",
    "    try:\n",
    "        num1 = 10\n",
    "        num2 = random.randint(0, 5) # 0~4의 임의의 값 하나를 생성\n",
    "        result = num1 / num2\n",
    "    except:\n",
    "        result = \"Error\"\n",
    "    print(f'{num1} / {num2} = {result}')"
   ]
  },
  {
   "cell_type": "code",
   "execution_count": 45,
   "id": "f343a0ba",
   "metadata": {},
   "outputs": [
    {
     "name": "stdout",
     "output_type": "stream",
     "text": [
      "Numbers: 1\n",
      "Numbers: 2\n",
      "Numbers: 3\n",
      "list index out of range\n"
     ]
    }
   ],
   "source": [
    "import random\n",
    "numbers = [1, 2, 3]\n",
    "for i in range(4):\n",
    "    try:\n",
    "        num_re = numbers[i]\n",
    "        print(f'Numbers: {numbers[i]}')\n",
    "    except Exception as e:\n",
    "        print(e)\n"
   ]
  },
  {
   "cell_type": "code",
   "execution_count": 47,
   "id": "f7b79742",
   "metadata": {},
   "outputs": [
    {
     "name": "stdout",
     "output_type": "stream",
     "text": [
      "1\n",
      "123\n",
      "invalid literal for int() with base 10: '23abc'\n",
      "32\n"
     ]
    }
   ],
   "source": [
    "# 리스트에 다양한 데이터가 존재\n",
    "mixed_list = ['1', '123', '23abc', '32']\n",
    "for i in mixed_list:\n",
    "    try:\n",
    "        print(int(i))\n",
    "    except Exception as e:\n",
    "        print(e)"
   ]
  },
  {
   "cell_type": "markdown",
   "id": "8bc5610b",
   "metadata": {},
   "source": [
    "# 함수\n",
    "코드들의 집합\n",
    "재사용 가능\n",
    "사용자는 함수 이름을 호출하고 함수실행에 필요한 데이터를 전달가능(전달 안할수도 있음))\n",
    "함수는 실행이 끝나면 자신을 호출한 곳으로 값을 리턴한다(안할수도 있음)\n",
    "def 함수명( 함수가 받는 값을 변수로 표현):\n",
    "    로직\n",
    "    로직\n",
    "    return 값 > 반환(없을수도 있음)\n",
    "    "
   ]
  },
  {
   "cell_type": "code",
   "execution_count": 61,
   "id": "a115883e",
   "metadata": {},
   "outputs": [],
   "source": [
    "def divide(num1, num2):\n",
    "    return num1 / num2\n",
    "\n",
    "def divide_no_return(num1, num2):\n",
    "    num1 / num2\n",
    "    print(num1/num2)"
   ]
  },
  {
   "cell_type": "code",
   "execution_count": 62,
   "id": "a87dabdc",
   "metadata": {},
   "outputs": [
    {
     "name": "stdout",
     "output_type": "stream",
     "text": [
      "2.0\n",
      "2.0\n",
      "None\n"
     ]
    }
   ],
   "source": [
    "result = divide(10, 5)\n",
    "print(result)\n",
    "print(divide_no_return(10, 5))"
   ]
  },
  {
   "cell_type": "markdown",
   "id": "8c0ba61a",
   "metadata": {},
   "source": [
    "# 클래스\n",
    "변수 여러개 > 자료구조\n",
    "명령어 집합 > 함수\n",
    "= 변수들과 함수들을 하나로 통합\n",
    "\n",
    "클래스 내부에서 정의되는 함수는 메소드라고 부른다\n",
    "\n",
    "클래스를 사용할 수 있게 변수로 저장하는데 이걸 우리는 객체 또는 인스턴스라 한다\n",
    "\n",
    "함수를 호출할때와 비교하기 위해서 클래스는 첫글자를 대문자로 한다"
   ]
  },
  {
   "cell_type": "code",
   "execution_count": 84,
   "id": "54fd66f7",
   "metadata": {},
   "outputs": [],
   "source": [
    "class Student:\n",
    "    def __init__(self): # 인스턴스 생성시에 자동으로 실행\n",
    "        self.konzoh = ''\n",
    "        print('생성자가 호출되었습니다')\n",
    "    def register(self):\n",
    "        self.name = ''\n",
    "        self.age = 0\n",
    "    def divide(self, num1, num2):\n",
    "        return num1 / num2\n",
    "    def info(self):\n",
    "        return print(f'{self}')\n",
    "    "
   ]
  },
  {
   "cell_type": "code",
   "execution_count": 68,
   "id": "4c7806bf",
   "metadata": {},
   "outputs": [],
   "source": [
    "result = divide(10, 5) # 함수를 호출한 결과를 result변수에 저장\n",
    "s1 = Student() # Student 클래스의 인스턴스(객체)를 생성"
   ]
  },
  {
   "cell_type": "code",
   "execution_count": null,
   "id": "b62e3087",
   "metadata": {},
   "outputs": [],
   "source": [
    "s1 = Student()\n",
    "s2 = Student() # Student 클래스의 또 다른 인스턴스(객체)를 생성\n",
    "s1.register() # s1 객체의 register 메서드를 호출\n",
    "s2.register() # s1 객체의 register 메서드를 호출\n"
   ]
  },
  {
   "cell_type": "code",
   "execution_count": 87,
   "id": "b81f5994",
   "metadata": {},
   "outputs": [
    {
     "name": "stdout",
     "output_type": "stream",
     "text": [
      "20\n",
      "생성자가 호출되었습니다\n",
      "김희철\n",
      "생성자가 호출되었습니다\n",
      "\n",
      "\n"
     ]
    }
   ],
   "source": [
    "s1.name = '홍길동'\n",
    "s1.age = 20\n",
    "print(s1.age)\n",
    "k1 = Student() # Student 클래스의 또 다른 인스턴스(객체)를 생성\n",
    "k1.konzoh = '김희철'\n",
    "print(k1.konzoh)\n",
    "k1 = Student()\n",
    "print(k1.konzoh)\n",
    "print(k1.konzoh)"
   ]
  },
  {
   "cell_type": "code",
   "execution_count": 8,
   "id": "9d19aef5",
   "metadata": {},
   "outputs": [
    {
     "name": "stdout",
     "output_type": "stream",
     "text": [
      "265\n",
      "👋 게임을 종료합니다. 다음에 또 도전해주세요!\n",
      "{'265'}\n"
     ]
    }
   ],
   "source": [
    "import random\n",
    "aaa = 0\n",
    "def generate_target_number():\n",
    "    while True:\n",
    "        number = random.randint(1, 999)\n",
    "        digits = f\"{number:03}\"\n",
    "        if len(set(digits)) == 3:\n",
    "            print(digits)\n",
    "            return digits\n",
    "\n",
    "def get_user_input():\n",
    "    while True:\n",
    "        user_input = input(\"숫자를 입력하세요 (001~999, 자릿수 중복 ❌, 일의 자리만 ❌) [종료하려면 q]: \").strip()\n",
    "        \n",
    "        if user_input.lower() == 'q':\n",
    "            return None  # 종료 명령\n",
    "\n",
    "        if not user_input.isdigit():\n",
    "            print(\"⚠️ 숫자만 입력하세요.\")\n",
    "            continue\n",
    "\n",
    "        num = int(user_input)\n",
    "        if not (1 <= num <= 999):\n",
    "            print(\"⚠️ 001~999 범위 내에서 입력하세요.\")\n",
    "            continue\n",
    "\n",
    "        digits = f\"{num:03}\"\n",
    "        if len(set(digits)) != 3:\n",
    "            print(\"⚠️ 각 자릿수는 중복될 수 없습니다.\")\n",
    "            continue\n",
    "\n",
    "        non_zero_digits = [d for d in digits if d != '0']\n",
    "        if len(non_zero_digits) == 1:\n",
    "            print(\"⚠️ 일의 자리 숫자만 사용할 수 없습니다.\")\n",
    "            continue\n",
    "\n",
    "        return digits\n",
    "\n",
    "def compare_digits(user, target):\n",
    "    strikes = 0\n",
    "    balls = 0\n",
    "\n",
    "    for i in range(3):\n",
    "        if user[i] == target[i]:\n",
    "            strikes += 1\n",
    "        elif user[i] in target:\n",
    "            balls += 1\n",
    "\n",
    "    outs = 3 - strikes - balls\n",
    "    return strikes, balls, outs\n",
    "\n",
    "def play_game():\n",
    "    target = generate_target_number()\n",
    "    attempts = 0\n",
    "    # print(f\"[디버깅용] 정답: {target}\")\n",
    "\n",
    "    while True:\n",
    "        user = get_user_input()\n",
    "        \n",
    "        if user is None:\n",
    "            print(\"👋 게임을 종료합니다. 다음에 또 도전해주세요!\")\n",
    "            print({target})\n",
    "            break\n",
    "\n",
    "        attempts += 1\n",
    "        strikes, balls, outs = compare_digits(user, target)\n",
    "\n",
    "        if strikes == 3:\n",
    "            print(f\"🎉 정답입니다! {attempts}번 만에 맞추셨습니다.\")\n",
    "            break\n",
    "        else:\n",
    "            print(f\"{strikes} 스트라이크, {balls} 볼, {outs} 아웃\")\n",
    "\n",
    "if __name__ == \"__main__\":\n",
    "    play_game()\n",
    "\n"
   ]
  }
 ],
 "metadata": {
  "kernelspec": {
   "display_name": "week",
   "language": "python",
   "name": "python3"
  },
  "language_info": {
   "codemirror_mode": {
    "name": "ipython",
    "version": 3
   },
   "file_extension": ".py",
   "mimetype": "text/x-python",
   "name": "python",
   "nbconvert_exporter": "python",
   "pygments_lexer": "ipython3",
   "version": "3.13.5"
  }
 },
 "nbformat": 4,
 "nbformat_minor": 5
}
